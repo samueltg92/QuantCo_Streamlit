{
 "cells": [
  {
   "cell_type": "code",
   "execution_count": 20,
   "metadata": {},
   "outputs": [],
   "source": [
    "import pandas as pd\n",
    "import quantstats as qs\n",
    "import yfinance as yf\n",
    "import pytz\n",
    "import datetime\n",
    "\n",
    "qs.extend_pandas()"
   ]
  },
  {
   "cell_type": "code",
   "execution_count": 21,
   "metadata": {},
   "outputs": [],
   "source": [
    "copyfx = '7. Febrero2023/Registro_de_operaciones_Roboforex_Febrero2023.xlsx'"
   ]
  },
  {
   "cell_type": "code",
   "execution_count": 22,
   "metadata": {},
   "outputs": [
    {
     "data": {
      "text/plain": [
       "datetime\n",
       "2023-01-31   -0.001012\n",
       "2023-02-01    0.000884\n",
       "2023-02-02    0.000000\n",
       "2023-02-03   -0.025710\n",
       "2023-02-04    0.000000\n",
       "2023-02-05    0.000000\n",
       "2023-02-06    0.000828\n",
       "2023-02-07    0.002348\n",
       "2023-02-08    0.000620\n",
       "2023-02-09    0.001634\n",
       "2023-02-10    0.001129\n",
       "2023-02-11    0.000000\n",
       "2023-02-12    0.000000\n",
       "2023-02-13   -0.003542\n",
       "2023-02-14    0.006480\n",
       "2023-02-15    0.001175\n",
       "2023-02-16    0.001131\n",
       "2023-02-17    0.001492\n",
       "2023-02-18    0.000000\n",
       "2023-02-19    0.000000\n",
       "2023-02-20    0.000743\n",
       "2023-02-21    0.001500\n",
       "2023-02-22    0.000493\n",
       "2023-02-23    0.000131\n",
       "2023-02-24    0.000624\n",
       "2023-02-25    0.000000\n",
       "2023-02-26    0.000000\n",
       "2023-02-27   -0.003017\n",
       "2023-02-28    0.005156\n",
       "Freq: D, Name: pct_bal, dtype: float64"
      ]
     },
     "execution_count": 22,
     "metadata": {},
     "output_type": "execute_result"
    }
   ],
   "source": [
    "df = pd.read_excel(copyfx, index_col=0)\n",
    "df['pct_bal'] = df['Balance'].pct_change()\n",
    "df.reset_index(inplace=True)\n",
    "df['datetime'] = pd.to_datetime(df['datetime'])\n",
    "df.set_index('datetime', inplace=True)\n",
    "returns = df['pct_bal']\n",
    "resampled = returns.resample('D').sum()\n",
    "resampled.index = resampled.index.tz_localize(None)\n",
    "resampled\n"
   ]
  },
  {
   "cell_type": "code",
   "execution_count": 23,
   "metadata": {},
   "outputs": [
    {
     "ename": "IndexError",
     "evalue": "list index out of range",
     "output_type": "error",
     "traceback": [
      "\u001b[0;31m---------------------------------------------------------------------------\u001b[0m",
      "\u001b[0;31mIndexError\u001b[0m                                Traceback (most recent call last)",
      "\u001b[1;32m/mnt/c/Users/samue/Documents/QuantResearch/Recolección de datos/benchmark.ipynb Celda 4\u001b[0m in \u001b[0;36m<cell line: 1>\u001b[0;34m()\u001b[0m\n\u001b[0;32m----> <a href='vscode-notebook-cell://wsl%2Bubuntu-20.04/mnt/c/Users/samue/Documents/QuantResearch/Recolecci%C3%B3n%20de%20datos/benchmark.ipynb#W3sdnNjb2RlLXJlbW90ZQ%3D%3D?line=0'>1</a>\u001b[0m qs\u001b[39m.\u001b[39;49mreports\u001b[39m.\u001b[39;49mhtml(returns, \u001b[39m'\u001b[39;49m\u001b[39mEURUSD=X\u001b[39;49m\u001b[39m'\u001b[39;49m, output\u001b[39m=\u001b[39;49m\u001b[39m'\u001b[39;49m\u001b[39mreport_Febrero2023.html\u001b[39;49m\u001b[39m'\u001b[39;49m, title\u001b[39m=\u001b[39;49m\u001b[39m'\u001b[39;49m\u001b[39mDA_Enero2023 vs EURUSD\u001b[39;49m\u001b[39m'\u001b[39;49m)\n",
      "File \u001b[0;32m~/miniconda3/envs/dataviz/lib/python3.10/site-packages/quantstats/reports.py:96\u001b[0m, in \u001b[0;36mhtml\u001b[0;34m(returns, benchmark, rf, grayscale, title, output, compounded, periods_per_year, download_filename, figfmt, template_path, match_dates, **kwargs)\u001b[0m\n\u001b[1;32m     93\u001b[0m tpl \u001b[39m=\u001b[39m tpl\u001b[39m.\u001b[39mreplace(\u001b[39m'\u001b[39m\u001b[39m{{\u001b[39m\u001b[39mtitle}}\u001b[39m\u001b[39m'\u001b[39m, title)\n\u001b[1;32m     94\u001b[0m tpl \u001b[39m=\u001b[39m tpl\u001b[39m.\u001b[39mreplace(\u001b[39m'\u001b[39m\u001b[39m{{\u001b[39m\u001b[39mv}}\u001b[39m\u001b[39m'\u001b[39m, __version__)\n\u001b[0;32m---> 96\u001b[0m mtrx \u001b[39m=\u001b[39m metrics(returns\u001b[39m=\u001b[39;49mreturns, benchmark\u001b[39m=\u001b[39;49mbenchmark,\n\u001b[1;32m     97\u001b[0m                rf\u001b[39m=\u001b[39;49mrf, display\u001b[39m=\u001b[39;49m\u001b[39mFalse\u001b[39;49;00m, mode\u001b[39m=\u001b[39;49m\u001b[39m'\u001b[39;49m\u001b[39mfull\u001b[39;49m\u001b[39m'\u001b[39;49m,\n\u001b[1;32m     98\u001b[0m                sep\u001b[39m=\u001b[39;49m\u001b[39mTrue\u001b[39;49;00m, internal\u001b[39m=\u001b[39;49m\u001b[39m\"\u001b[39;49m\u001b[39mTrue\u001b[39;49m\u001b[39m\"\u001b[39;49m,\n\u001b[1;32m     99\u001b[0m                compounded\u001b[39m=\u001b[39;49mcompounded,\n\u001b[1;32m    100\u001b[0m                periods_per_year\u001b[39m=\u001b[39;49mperiods_per_year,\n\u001b[1;32m    101\u001b[0m                prepare_returns\u001b[39m=\u001b[39;49m\u001b[39mFalse\u001b[39;49;00m)[\u001b[39m2\u001b[39m:]\n\u001b[1;32m    103\u001b[0m mtrx\u001b[39m.\u001b[39mindex\u001b[39m.\u001b[39mname \u001b[39m=\u001b[39m \u001b[39m'\u001b[39m\u001b[39mMetric\u001b[39m\u001b[39m'\u001b[39m\n\u001b[1;32m    104\u001b[0m tpl \u001b[39m=\u001b[39m tpl\u001b[39m.\u001b[39mreplace(\u001b[39m'\u001b[39m\u001b[39m{{\u001b[39m\u001b[39mmetrics}}\u001b[39m\u001b[39m'\u001b[39m, _html_table(mtrx))\n",
      "File \u001b[0;32m~/miniconda3/envs/dataviz/lib/python3.10/site-packages/quantstats/reports.py:401\u001b[0m, in \u001b[0;36mmetrics\u001b[0;34m(returns, benchmark, rf, display, mode, sep, compounded, periods_per_year, prepare_returns, match_dates, **kwargs)\u001b[0m\n\u001b[1;32m    398\u001b[0m     pct \u001b[39m=\u001b[39m \u001b[39m100\u001b[39m\n\u001b[1;32m    400\u001b[0m \u001b[39m# return df\u001b[39;00m\n\u001b[0;32m--> 401\u001b[0m dd \u001b[39m=\u001b[39m _calc_dd(df, display\u001b[39m=\u001b[39;49m(display \u001b[39mor\u001b[39;49;00m \u001b[39m\"\u001b[39;49m\u001b[39minternal\u001b[39;49m\u001b[39m\"\u001b[39;49m \u001b[39min\u001b[39;49;00m kwargs),\n\u001b[1;32m    402\u001b[0m               as_pct\u001b[39m=\u001b[39;49mkwargs\u001b[39m.\u001b[39;49mget(\u001b[39m\"\u001b[39;49m\u001b[39mas_pct\u001b[39;49m\u001b[39m\"\u001b[39;49m, \u001b[39mFalse\u001b[39;49;00m))\n\u001b[1;32m    404\u001b[0m metrics \u001b[39m=\u001b[39m _pd\u001b[39m.\u001b[39mDataFrame()\n\u001b[1;32m    406\u001b[0m s_start \u001b[39m=\u001b[39m {\u001b[39m'\u001b[39m\u001b[39mreturns\u001b[39m\u001b[39m'\u001b[39m: df[\u001b[39m'\u001b[39m\u001b[39mreturns\u001b[39m\u001b[39m'\u001b[39m]\u001b[39m.\u001b[39mindex\u001b[39m.\u001b[39mstrftime(\u001b[39m'\u001b[39m\u001b[39m%\u001b[39m\u001b[39mY-\u001b[39m\u001b[39m%\u001b[39m\u001b[39mm-\u001b[39m\u001b[39m%d\u001b[39;00m\u001b[39m'\u001b[39m)[\u001b[39m0\u001b[39m]}\n",
      "File \u001b[0;32m~/miniconda3/envs/dataviz/lib/python3.10/site-packages/quantstats/reports.py:741\u001b[0m, in \u001b[0;36m_calc_dd\u001b[0;34m(df, display, as_pct)\u001b[0m\n\u001b[1;32m    739\u001b[0m \u001b[39mdef\u001b[39;00m \u001b[39m_calc_dd\u001b[39m(df, display\u001b[39m=\u001b[39m\u001b[39mTrue\u001b[39;00m, as_pct\u001b[39m=\u001b[39m\u001b[39mFalse\u001b[39;00m):\n\u001b[1;32m    740\u001b[0m     dd \u001b[39m=\u001b[39m _stats\u001b[39m.\u001b[39mto_drawdown_series(df)\n\u001b[0;32m--> 741\u001b[0m     dd_info \u001b[39m=\u001b[39m _stats\u001b[39m.\u001b[39;49mdrawdown_details(dd)\n\u001b[1;32m    743\u001b[0m     \u001b[39mif\u001b[39;00m dd_info\u001b[39m.\u001b[39mempty:\n\u001b[1;32m    744\u001b[0m         \u001b[39mreturn\u001b[39;00m _pd\u001b[39m.\u001b[39mDataFrame()\n",
      "File \u001b[0;32m~/miniconda3/envs/dataviz/lib/python3.10/site-packages/quantstats/stats.py:817\u001b[0m, in \u001b[0;36mdrawdown_details\u001b[0;34m(drawdown)\u001b[0m\n\u001b[1;32m    815\u001b[0m     _dfs \u001b[39m=\u001b[39m {}\n\u001b[1;32m    816\u001b[0m     \u001b[39mfor\u001b[39;00m col \u001b[39min\u001b[39;00m drawdown\u001b[39m.\u001b[39mcolumns:\n\u001b[0;32m--> 817\u001b[0m         _dfs[col] \u001b[39m=\u001b[39m _drawdown_details(drawdown[col])\n\u001b[1;32m    818\u001b[0m     \u001b[39mreturn\u001b[39;00m _pd\u001b[39m.\u001b[39mconcat(_dfs, axis\u001b[39m=\u001b[39m\u001b[39m1\u001b[39m)\n\u001b[1;32m    820\u001b[0m \u001b[39mreturn\u001b[39;00m _drawdown_details(drawdown)\n",
      "File \u001b[0;32m~/miniconda3/envs/dataviz/lib/python3.10/site-packages/quantstats/stats.py:794\u001b[0m, in \u001b[0;36mdrawdown_details.<locals>._drawdown_details\u001b[0;34m(drawdown)\u001b[0m\n\u001b[1;32m    792\u001b[0m data \u001b[39m=\u001b[39m []\n\u001b[1;32m    793\u001b[0m \u001b[39mfor\u001b[39;00m i, _ \u001b[39min\u001b[39;00m \u001b[39menumerate\u001b[39m(starts):\n\u001b[0;32m--> 794\u001b[0m     dd \u001b[39m=\u001b[39m drawdown[starts[i]:ends[i]]\n\u001b[1;32m    795\u001b[0m     clean_dd \u001b[39m=\u001b[39m \u001b[39m-\u001b[39mremove_outliers(\u001b[39m-\u001b[39mdd, \u001b[39m.99\u001b[39m)\n\u001b[1;32m    796\u001b[0m     data\u001b[39m.\u001b[39mappend((starts[i], dd\u001b[39m.\u001b[39midxmin(), ends[i],\n\u001b[1;32m    797\u001b[0m                  (ends[i] \u001b[39m-\u001b[39m starts[i])\u001b[39m.\u001b[39mdays,\n\u001b[1;32m    798\u001b[0m                  dd\u001b[39m.\u001b[39mmin() \u001b[39m*\u001b[39m \u001b[39m100\u001b[39m, clean_dd\u001b[39m.\u001b[39mmin() \u001b[39m*\u001b[39m \u001b[39m100\u001b[39m))\n",
      "\u001b[0;31mIndexError\u001b[0m: list index out of range"
     ]
    }
   ],
   "source": [
    "qs.reports.html(returns, 'EURUSD=X', output='report_Febrero2023.html', title='DA_Enero2023 vs EURUSD')"
   ]
  },
  {
   "cell_type": "code",
   "execution_count": null,
   "metadata": {},
   "outputs": [],
   "source": []
  }
 ],
 "metadata": {
  "kernelspec": {
   "display_name": "dataviz",
   "language": "python",
   "name": "python3"
  },
  "language_info": {
   "codemirror_mode": {
    "name": "ipython",
    "version": 3
   },
   "file_extension": ".py",
   "mimetype": "text/x-python",
   "name": "python",
   "nbconvert_exporter": "python",
   "pygments_lexer": "ipython3",
   "version": "3.10.8"
  },
  "orig_nbformat": 4,
  "vscode": {
   "interpreter": {
    "hash": "2b96cf5526d6fb4a2c6f3bf9a6d678813db224967c58bd1c07b068430336d211"
   }
  }
 },
 "nbformat": 4,
 "nbformat_minor": 2
}
