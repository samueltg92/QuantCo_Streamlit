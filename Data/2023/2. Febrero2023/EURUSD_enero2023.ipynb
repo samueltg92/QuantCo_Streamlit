{
 "cells": [
  {
   "cell_type": "code",
   "execution_count": 7,
   "metadata": {},
   "outputs": [],
   "source": [
    "import pandas as pd\n",
    "import quantstats as qs\n",
    "import yfinance as yf\n",
    "import pytz\n",
    "import datetime\n",
    "\n",
    "qs.extend_pandas()"
   ]
  },
  {
   "cell_type": "code",
   "execution_count": 12,
   "metadata": {},
   "outputs": [],
   "source": [
    "copyfx = 'D:\\Coding\\QuantCo_Streamlit\\Data\\2023\\2. Febrero2023\\Registro_de_operaciones_Roboforex_Febrero2023.xlsx'"
   ]
  },
  {
   "cell_type": "code",
   "execution_count": 13,
   "metadata": {},
   "outputs": [
    {
     "ename": "OSError",
     "evalue": "[Errno 22] Invalid argument: 'D:\\\\Coding\\\\QuantCo_Streamlit\\\\Data\\x823\\x02. Febrero2023\\\\Registro_de_operaciones_Roboforex_Febrero2023.xlsx'",
     "output_type": "error",
     "traceback": [
      "\u001b[1;31m---------------------------------------------------------------------------\u001b[0m",
      "\u001b[1;31mOSError\u001b[0m                                   Traceback (most recent call last)",
      "\u001b[1;32md:\\Coding\\QuantCo_Streamlit\\Data\\2023\\2. Febrero2023\\EURUSD_enero2023.ipynb Celda 3\u001b[0m in \u001b[0;36m<cell line: 1>\u001b[1;34m()\u001b[0m\n\u001b[1;32m----> <a href='vscode-notebook-cell:/d%3A/Coding/QuantCo_Streamlit/Data/2023/2.%20Febrero2023/EURUSD_enero2023.ipynb#W2sZmlsZQ%3D%3D?line=0'>1</a>\u001b[0m df \u001b[39m=\u001b[39m pd\u001b[39m.\u001b[39;49mread_excel(copyfx, index_col\u001b[39m=\u001b[39;49m\u001b[39m0\u001b[39;49m)\n\u001b[0;32m      <a href='vscode-notebook-cell:/d%3A/Coding/QuantCo_Streamlit/Data/2023/2.%20Febrero2023/EURUSD_enero2023.ipynb#W2sZmlsZQ%3D%3D?line=1'>2</a>\u001b[0m df[\u001b[39m'\u001b[39m\u001b[39mpct_bal\u001b[39m\u001b[39m'\u001b[39m] \u001b[39m=\u001b[39m df[\u001b[39m'\u001b[39m\u001b[39mBalance\u001b[39m\u001b[39m'\u001b[39m]\u001b[39m.\u001b[39mpct_change()\n\u001b[0;32m      <a href='vscode-notebook-cell:/d%3A/Coding/QuantCo_Streamlit/Data/2023/2.%20Febrero2023/EURUSD_enero2023.ipynb#W2sZmlsZQ%3D%3D?line=2'>3</a>\u001b[0m df\u001b[39m.\u001b[39mreset_index(inplace\u001b[39m=\u001b[39m\u001b[39mTrue\u001b[39;00m)\n",
      "File \u001b[1;32mc:\\Users\\MI PC\\AppData\\Local\\Programs\\Python\\Python310\\lib\\site-packages\\pandas\\util\\_decorators.py:311\u001b[0m, in \u001b[0;36mdeprecate_nonkeyword_arguments.<locals>.decorate.<locals>.wrapper\u001b[1;34m(*args, **kwargs)\u001b[0m\n\u001b[0;32m    305\u001b[0m \u001b[39mif\u001b[39;00m \u001b[39mlen\u001b[39m(args) \u001b[39m>\u001b[39m num_allow_args:\n\u001b[0;32m    306\u001b[0m     warnings\u001b[39m.\u001b[39mwarn(\n\u001b[0;32m    307\u001b[0m         msg\u001b[39m.\u001b[39mformat(arguments\u001b[39m=\u001b[39marguments),\n\u001b[0;32m    308\u001b[0m         \u001b[39mFutureWarning\u001b[39;00m,\n\u001b[0;32m    309\u001b[0m         stacklevel\u001b[39m=\u001b[39mstacklevel,\n\u001b[0;32m    310\u001b[0m     )\n\u001b[1;32m--> 311\u001b[0m \u001b[39mreturn\u001b[39;00m func(\u001b[39m*\u001b[39margs, \u001b[39m*\u001b[39m\u001b[39m*\u001b[39mkwargs)\n",
      "File \u001b[1;32mc:\\Users\\MI PC\\AppData\\Local\\Programs\\Python\\Python310\\lib\\site-packages\\pandas\\io\\excel\\_base.py:457\u001b[0m, in \u001b[0;36mread_excel\u001b[1;34m(io, sheet_name, header, names, index_col, usecols, squeeze, dtype, engine, converters, true_values, false_values, skiprows, nrows, na_values, keep_default_na, na_filter, verbose, parse_dates, date_parser, thousands, decimal, comment, skipfooter, convert_float, mangle_dupe_cols, storage_options)\u001b[0m\n\u001b[0;32m    455\u001b[0m \u001b[39mif\u001b[39;00m \u001b[39mnot\u001b[39;00m \u001b[39misinstance\u001b[39m(io, ExcelFile):\n\u001b[0;32m    456\u001b[0m     should_close \u001b[39m=\u001b[39m \u001b[39mTrue\u001b[39;00m\n\u001b[1;32m--> 457\u001b[0m     io \u001b[39m=\u001b[39m ExcelFile(io, storage_options\u001b[39m=\u001b[39;49mstorage_options, engine\u001b[39m=\u001b[39;49mengine)\n\u001b[0;32m    458\u001b[0m \u001b[39melif\u001b[39;00m engine \u001b[39mand\u001b[39;00m engine \u001b[39m!=\u001b[39m io\u001b[39m.\u001b[39mengine:\n\u001b[0;32m    459\u001b[0m     \u001b[39mraise\u001b[39;00m \u001b[39mValueError\u001b[39;00m(\n\u001b[0;32m    460\u001b[0m         \u001b[39m\"\u001b[39m\u001b[39mEngine should not be specified when passing \u001b[39m\u001b[39m\"\u001b[39m\n\u001b[0;32m    461\u001b[0m         \u001b[39m\"\u001b[39m\u001b[39man ExcelFile - ExcelFile already has the engine set\u001b[39m\u001b[39m\"\u001b[39m\n\u001b[0;32m    462\u001b[0m     )\n",
      "File \u001b[1;32mc:\\Users\\MI PC\\AppData\\Local\\Programs\\Python\\Python310\\lib\\site-packages\\pandas\\io\\excel\\_base.py:1376\u001b[0m, in \u001b[0;36mExcelFile.__init__\u001b[1;34m(self, path_or_buffer, engine, storage_options)\u001b[0m\n\u001b[0;32m   1374\u001b[0m     ext \u001b[39m=\u001b[39m \u001b[39m\"\u001b[39m\u001b[39mxls\u001b[39m\u001b[39m\"\u001b[39m\n\u001b[0;32m   1375\u001b[0m \u001b[39melse\u001b[39;00m:\n\u001b[1;32m-> 1376\u001b[0m     ext \u001b[39m=\u001b[39m inspect_excel_format(\n\u001b[0;32m   1377\u001b[0m         content_or_path\u001b[39m=\u001b[39;49mpath_or_buffer, storage_options\u001b[39m=\u001b[39;49mstorage_options\n\u001b[0;32m   1378\u001b[0m     )\n\u001b[0;32m   1379\u001b[0m     \u001b[39mif\u001b[39;00m ext \u001b[39mis\u001b[39;00m \u001b[39mNone\u001b[39;00m:\n\u001b[0;32m   1380\u001b[0m         \u001b[39mraise\u001b[39;00m \u001b[39mValueError\u001b[39;00m(\n\u001b[0;32m   1381\u001b[0m             \u001b[39m\"\u001b[39m\u001b[39mExcel file format cannot be determined, you must specify \u001b[39m\u001b[39m\"\u001b[39m\n\u001b[0;32m   1382\u001b[0m             \u001b[39m\"\u001b[39m\u001b[39man engine manually.\u001b[39m\u001b[39m\"\u001b[39m\n\u001b[0;32m   1383\u001b[0m         )\n",
      "File \u001b[1;32mc:\\Users\\MI PC\\AppData\\Local\\Programs\\Python\\Python310\\lib\\site-packages\\pandas\\io\\excel\\_base.py:1250\u001b[0m, in \u001b[0;36minspect_excel_format\u001b[1;34m(content_or_path, storage_options)\u001b[0m\n\u001b[0;32m   1247\u001b[0m \u001b[39mif\u001b[39;00m \u001b[39misinstance\u001b[39m(content_or_path, \u001b[39mbytes\u001b[39m):\n\u001b[0;32m   1248\u001b[0m     content_or_path \u001b[39m=\u001b[39m BytesIO(content_or_path)\n\u001b[1;32m-> 1250\u001b[0m \u001b[39mwith\u001b[39;00m get_handle(\n\u001b[0;32m   1251\u001b[0m     content_or_path, \u001b[39m\"\u001b[39;49m\u001b[39mrb\u001b[39;49m\u001b[39m\"\u001b[39;49m, storage_options\u001b[39m=\u001b[39;49mstorage_options, is_text\u001b[39m=\u001b[39;49m\u001b[39mFalse\u001b[39;49;00m\n\u001b[0;32m   1252\u001b[0m ) \u001b[39mas\u001b[39;00m handle:\n\u001b[0;32m   1253\u001b[0m     stream \u001b[39m=\u001b[39m handle\u001b[39m.\u001b[39mhandle\n\u001b[0;32m   1254\u001b[0m     stream\u001b[39m.\u001b[39mseek(\u001b[39m0\u001b[39m)\n",
      "File \u001b[1;32mc:\\Users\\MI PC\\AppData\\Local\\Programs\\Python\\Python310\\lib\\site-packages\\pandas\\io\\common.py:798\u001b[0m, in \u001b[0;36mget_handle\u001b[1;34m(path_or_buf, mode, encoding, compression, memory_map, is_text, errors, storage_options)\u001b[0m\n\u001b[0;32m    789\u001b[0m         handle \u001b[39m=\u001b[39m \u001b[39mopen\u001b[39m(\n\u001b[0;32m    790\u001b[0m             handle,\n\u001b[0;32m    791\u001b[0m             ioargs\u001b[39m.\u001b[39mmode,\n\u001b[1;32m   (...)\u001b[0m\n\u001b[0;32m    794\u001b[0m             newline\u001b[39m=\u001b[39m\u001b[39m\"\u001b[39m\u001b[39m\"\u001b[39m,\n\u001b[0;32m    795\u001b[0m         )\n\u001b[0;32m    796\u001b[0m     \u001b[39melse\u001b[39;00m:\n\u001b[0;32m    797\u001b[0m         \u001b[39m# Binary mode\u001b[39;00m\n\u001b[1;32m--> 798\u001b[0m         handle \u001b[39m=\u001b[39m \u001b[39mopen\u001b[39;49m(handle, ioargs\u001b[39m.\u001b[39;49mmode)\n\u001b[0;32m    799\u001b[0m     handles\u001b[39m.\u001b[39mappend(handle)\n\u001b[0;32m    801\u001b[0m \u001b[39m# Convert BytesIO or file objects passed with an encoding\u001b[39;00m\n",
      "\u001b[1;31mOSError\u001b[0m: [Errno 22] Invalid argument: 'D:\\\\Coding\\\\QuantCo_Streamlit\\\\Data\\x823\\x02. Febrero2023\\\\Registro_de_operaciones_Roboforex_Febrero2023.xlsx'"
     ]
    }
   ],
   "source": [
    "df = pd.read_excel(copyfx, index_col=0)\n",
    "df['pct_bal'] = df['Balance'].pct_change()\n",
    "df.reset_index(inplace=True)\n",
    "df['datetime'] = pd.to_datetime(df['datetime'])\n",
    "df.set_index('datetime', inplace=True)\n",
    "returns = df['pct_bal']\n",
    "resampled = returns.resample('D').sum()\n",
    "resampled.index = resampled.index.tz_localize(None)\n",
    "resampled\n"
   ]
  },
  {
   "cell_type": "code",
   "execution_count": null,
   "metadata": {},
   "outputs": [
    {
     "ename": "IndexError",
     "evalue": "list index out of range",
     "output_type": "error",
     "traceback": [
      "\u001b[0;31m---------------------------------------------------------------------------\u001b[0m",
      "\u001b[0;31mIndexError\u001b[0m                                Traceback (most recent call last)",
      "\u001b[1;32m/mnt/c/Users/samue/Documents/QuantResearch/Recolección de datos/benchmark.ipynb Celda 4\u001b[0m in \u001b[0;36m<cell line: 1>\u001b[0;34m()\u001b[0m\n\u001b[0;32m----> <a href='vscode-notebook-cell://wsl%2Bubuntu-20.04/mnt/c/Users/samue/Documents/QuantResearch/Recolecci%C3%B3n%20de%20datos/benchmark.ipynb#W3sdnNjb2RlLXJlbW90ZQ%3D%3D?line=0'>1</a>\u001b[0m qs\u001b[39m.\u001b[39;49mreports\u001b[39m.\u001b[39;49mhtml(returns, \u001b[39m'\u001b[39;49m\u001b[39mEURUSD=X\u001b[39;49m\u001b[39m'\u001b[39;49m, output\u001b[39m=\u001b[39;49m\u001b[39m'\u001b[39;49m\u001b[39mreport_Febrero2023.html\u001b[39;49m\u001b[39m'\u001b[39;49m, title\u001b[39m=\u001b[39;49m\u001b[39m'\u001b[39;49m\u001b[39mDA_Enero2023 vs EURUSD\u001b[39;49m\u001b[39m'\u001b[39;49m)\n",
      "File \u001b[0;32m~/miniconda3/envs/dataviz/lib/python3.10/site-packages/quantstats/reports.py:96\u001b[0m, in \u001b[0;36mhtml\u001b[0;34m(returns, benchmark, rf, grayscale, title, output, compounded, periods_per_year, download_filename, figfmt, template_path, match_dates, **kwargs)\u001b[0m\n\u001b[1;32m     93\u001b[0m tpl \u001b[39m=\u001b[39m tpl\u001b[39m.\u001b[39mreplace(\u001b[39m'\u001b[39m\u001b[39m{{\u001b[39m\u001b[39mtitle}}\u001b[39m\u001b[39m'\u001b[39m, title)\n\u001b[1;32m     94\u001b[0m tpl \u001b[39m=\u001b[39m tpl\u001b[39m.\u001b[39mreplace(\u001b[39m'\u001b[39m\u001b[39m{{\u001b[39m\u001b[39mv}}\u001b[39m\u001b[39m'\u001b[39m, __version__)\n\u001b[0;32m---> 96\u001b[0m mtrx \u001b[39m=\u001b[39m metrics(returns\u001b[39m=\u001b[39;49mreturns, benchmark\u001b[39m=\u001b[39;49mbenchmark,\n\u001b[1;32m     97\u001b[0m                rf\u001b[39m=\u001b[39;49mrf, display\u001b[39m=\u001b[39;49m\u001b[39mFalse\u001b[39;49;00m, mode\u001b[39m=\u001b[39;49m\u001b[39m'\u001b[39;49m\u001b[39mfull\u001b[39;49m\u001b[39m'\u001b[39;49m,\n\u001b[1;32m     98\u001b[0m                sep\u001b[39m=\u001b[39;49m\u001b[39mTrue\u001b[39;49;00m, internal\u001b[39m=\u001b[39;49m\u001b[39m\"\u001b[39;49m\u001b[39mTrue\u001b[39;49m\u001b[39m\"\u001b[39;49m,\n\u001b[1;32m     99\u001b[0m                compounded\u001b[39m=\u001b[39;49mcompounded,\n\u001b[1;32m    100\u001b[0m                periods_per_year\u001b[39m=\u001b[39;49mperiods_per_year,\n\u001b[1;32m    101\u001b[0m                prepare_returns\u001b[39m=\u001b[39;49m\u001b[39mFalse\u001b[39;49;00m)[\u001b[39m2\u001b[39m:]\n\u001b[1;32m    103\u001b[0m mtrx\u001b[39m.\u001b[39mindex\u001b[39m.\u001b[39mname \u001b[39m=\u001b[39m \u001b[39m'\u001b[39m\u001b[39mMetric\u001b[39m\u001b[39m'\u001b[39m\n\u001b[1;32m    104\u001b[0m tpl \u001b[39m=\u001b[39m tpl\u001b[39m.\u001b[39mreplace(\u001b[39m'\u001b[39m\u001b[39m{{\u001b[39m\u001b[39mmetrics}}\u001b[39m\u001b[39m'\u001b[39m, _html_table(mtrx))\n",
      "File \u001b[0;32m~/miniconda3/envs/dataviz/lib/python3.10/site-packages/quantstats/reports.py:401\u001b[0m, in \u001b[0;36mmetrics\u001b[0;34m(returns, benchmark, rf, display, mode, sep, compounded, periods_per_year, prepare_returns, match_dates, **kwargs)\u001b[0m\n\u001b[1;32m    398\u001b[0m     pct \u001b[39m=\u001b[39m \u001b[39m100\u001b[39m\n\u001b[1;32m    400\u001b[0m \u001b[39m# return df\u001b[39;00m\n\u001b[0;32m--> 401\u001b[0m dd \u001b[39m=\u001b[39m _calc_dd(df, display\u001b[39m=\u001b[39;49m(display \u001b[39mor\u001b[39;49;00m \u001b[39m\"\u001b[39;49m\u001b[39minternal\u001b[39;49m\u001b[39m\"\u001b[39;49m \u001b[39min\u001b[39;49;00m kwargs),\n\u001b[1;32m    402\u001b[0m               as_pct\u001b[39m=\u001b[39;49mkwargs\u001b[39m.\u001b[39;49mget(\u001b[39m\"\u001b[39;49m\u001b[39mas_pct\u001b[39;49m\u001b[39m\"\u001b[39;49m, \u001b[39mFalse\u001b[39;49;00m))\n\u001b[1;32m    404\u001b[0m metrics \u001b[39m=\u001b[39m _pd\u001b[39m.\u001b[39mDataFrame()\n\u001b[1;32m    406\u001b[0m s_start \u001b[39m=\u001b[39m {\u001b[39m'\u001b[39m\u001b[39mreturns\u001b[39m\u001b[39m'\u001b[39m: df[\u001b[39m'\u001b[39m\u001b[39mreturns\u001b[39m\u001b[39m'\u001b[39m]\u001b[39m.\u001b[39mindex\u001b[39m.\u001b[39mstrftime(\u001b[39m'\u001b[39m\u001b[39m%\u001b[39m\u001b[39mY-\u001b[39m\u001b[39m%\u001b[39m\u001b[39mm-\u001b[39m\u001b[39m%d\u001b[39;00m\u001b[39m'\u001b[39m)[\u001b[39m0\u001b[39m]}\n",
      "File \u001b[0;32m~/miniconda3/envs/dataviz/lib/python3.10/site-packages/quantstats/reports.py:741\u001b[0m, in \u001b[0;36m_calc_dd\u001b[0;34m(df, display, as_pct)\u001b[0m\n\u001b[1;32m    739\u001b[0m \u001b[39mdef\u001b[39;00m \u001b[39m_calc_dd\u001b[39m(df, display\u001b[39m=\u001b[39m\u001b[39mTrue\u001b[39;00m, as_pct\u001b[39m=\u001b[39m\u001b[39mFalse\u001b[39;00m):\n\u001b[1;32m    740\u001b[0m     dd \u001b[39m=\u001b[39m _stats\u001b[39m.\u001b[39mto_drawdown_series(df)\n\u001b[0;32m--> 741\u001b[0m     dd_info \u001b[39m=\u001b[39m _stats\u001b[39m.\u001b[39;49mdrawdown_details(dd)\n\u001b[1;32m    743\u001b[0m     \u001b[39mif\u001b[39;00m dd_info\u001b[39m.\u001b[39mempty:\n\u001b[1;32m    744\u001b[0m         \u001b[39mreturn\u001b[39;00m _pd\u001b[39m.\u001b[39mDataFrame()\n",
      "File \u001b[0;32m~/miniconda3/envs/dataviz/lib/python3.10/site-packages/quantstats/stats.py:817\u001b[0m, in \u001b[0;36mdrawdown_details\u001b[0;34m(drawdown)\u001b[0m\n\u001b[1;32m    815\u001b[0m     _dfs \u001b[39m=\u001b[39m {}\n\u001b[1;32m    816\u001b[0m     \u001b[39mfor\u001b[39;00m col \u001b[39min\u001b[39;00m drawdown\u001b[39m.\u001b[39mcolumns:\n\u001b[0;32m--> 817\u001b[0m         _dfs[col] \u001b[39m=\u001b[39m _drawdown_details(drawdown[col])\n\u001b[1;32m    818\u001b[0m     \u001b[39mreturn\u001b[39;00m _pd\u001b[39m.\u001b[39mconcat(_dfs, axis\u001b[39m=\u001b[39m\u001b[39m1\u001b[39m)\n\u001b[1;32m    820\u001b[0m \u001b[39mreturn\u001b[39;00m _drawdown_details(drawdown)\n",
      "File \u001b[0;32m~/miniconda3/envs/dataviz/lib/python3.10/site-packages/quantstats/stats.py:794\u001b[0m, in \u001b[0;36mdrawdown_details.<locals>._drawdown_details\u001b[0;34m(drawdown)\u001b[0m\n\u001b[1;32m    792\u001b[0m data \u001b[39m=\u001b[39m []\n\u001b[1;32m    793\u001b[0m \u001b[39mfor\u001b[39;00m i, _ \u001b[39min\u001b[39;00m \u001b[39menumerate\u001b[39m(starts):\n\u001b[0;32m--> 794\u001b[0m     dd \u001b[39m=\u001b[39m drawdown[starts[i]:ends[i]]\n\u001b[1;32m    795\u001b[0m     clean_dd \u001b[39m=\u001b[39m \u001b[39m-\u001b[39mremove_outliers(\u001b[39m-\u001b[39mdd, \u001b[39m.99\u001b[39m)\n\u001b[1;32m    796\u001b[0m     data\u001b[39m.\u001b[39mappend((starts[i], dd\u001b[39m.\u001b[39midxmin(), ends[i],\n\u001b[1;32m    797\u001b[0m                  (ends[i] \u001b[39m-\u001b[39m starts[i])\u001b[39m.\u001b[39mdays,\n\u001b[1;32m    798\u001b[0m                  dd\u001b[39m.\u001b[39mmin() \u001b[39m*\u001b[39m \u001b[39m100\u001b[39m, clean_dd\u001b[39m.\u001b[39mmin() \u001b[39m*\u001b[39m \u001b[39m100\u001b[39m))\n",
      "\u001b[0;31mIndexError\u001b[0m: list index out of range"
     ]
    }
   ],
   "source": [
    "qs.reports.html(returns, 'EURUSD=X', output='report_Febrero2023.html', title='DA_Febrero2023 vs EURUSD')"
   ]
  },
  {
   "cell_type": "code",
   "execution_count": null,
   "metadata": {},
   "outputs": [],
   "source": []
  }
 ],
 "metadata": {
  "kernelspec": {
   "display_name": "Python 3",
   "language": "python",
   "name": "python3"
  },
  "language_info": {
   "codemirror_mode": {
    "name": "ipython",
    "version": 3
   },
   "file_extension": ".py",
   "mimetype": "text/x-python",
   "name": "python",
   "nbconvert_exporter": "python",
   "pygments_lexer": "ipython3",
   "version": "3.10.4"
  },
  "orig_nbformat": 4,
  "vscode": {
   "interpreter": {
    "hash": "7ce0eefcf62feafa0cceacfd587c96701d952e3e2fc5aec5e7b8b37643e01fc7"
   }
  }
 },
 "nbformat": 4,
 "nbformat_minor": 2
}
